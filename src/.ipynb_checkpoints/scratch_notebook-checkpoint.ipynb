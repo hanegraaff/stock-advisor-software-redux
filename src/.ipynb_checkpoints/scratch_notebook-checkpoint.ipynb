{
 "cells": [
  {
   "cell_type": "code",
   "execution_count": 6,
   "id": "b1d74341",
   "metadata": {},
   "outputs": [
    {
     "name": "stdout",
     "output_type": "stream",
     "text": [
      "ticker_symbol      price      macd    signal  divergence momentum\n",
      "          SPY 422.119995  4.686680  5.193592   -0.506912  BULLISH\n",
      "          VNQ  98.440002  1.378925  1.620038   -0.241113  BEARISH\n",
      "         ARKK 109.720001 -3.204868 -1.693856   -1.511012  BEARISH\n"
     ]
    }
   ],
   "source": [
    "from datetime import date\n",
    "from strategies.macd_crossover_strategy import MACDCrossoverStrategy\n",
    "from model.ticker_list import TickerList\n",
    "from support.configuration import Configuration\n",
    "from support import constants\n",
    "\n",
    "\n",
    "ticker_list = TickerList.from_local_file(\n",
    "    \"%s/macd_tickers.json\" % (constants.APP_DATA_DIR))\n",
    "\n",
    "config = Configuration.from_local_config(\n",
    "    constants.STRATEGY_CONFIG_FILE_NAME)\n",
    "\n",
    "macd_strategy = MACDCrossoverStrategy(\n",
    "    ticker_list, date(2021, 5, 7), 0.0016, 12, 26, 9)\n",
    "macd_strategy.generate_recommendation()\n",
    "macd_strategy.display_results()"
   ]
  }
 ],
 "metadata": {
  "kernelspec": {
   "display_name": "Python 3",
   "language": "python",
   "name": "python3"
  },
  "language_info": {
   "codemirror_mode": {
    "name": "ipython",
    "version": 3
   },
   "file_extension": ".py",
   "mimetype": "text/x-python",
   "name": "python",
   "nbconvert_exporter": "python",
   "pygments_lexer": "ipython3",
   "version": "3.7.3"
  }
 },
 "nbformat": 4,
 "nbformat_minor": 5
}
