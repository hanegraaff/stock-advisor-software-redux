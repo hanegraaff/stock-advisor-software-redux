{
 "cells": [
  {
   "cell_type": "code",
   "execution_count": 1,
   "id": "b1d74341",
   "metadata": {},
   "outputs": [
    {
     "ename": "ModuleNotFoundError",
     "evalue": "No module named 'pandas'",
     "output_type": "error",
     "traceback": [
      "\u001b[0;31m---------------------------------------------------------------------------\u001b[0m",
      "\u001b[0;31mModuleNotFoundError\u001b[0m                       Traceback (most recent call last)",
      "\u001b[0;32m<ipython-input-1-ba767fb61918>\u001b[0m in \u001b[0;36m<module>\u001b[0;34m\u001b[0m\n\u001b[0;32m----> 1\u001b[0;31m \u001b[0;32mfrom\u001b[0m \u001b[0mstrategies\u001b[0m\u001b[0;34m.\u001b[0m\u001b[0mmacd_crossover_strategy\u001b[0m \u001b[0;32mimport\u001b[0m \u001b[0mMACDCrossoverStrategy\u001b[0m\u001b[0;34m\u001b[0m\u001b[0;34m\u001b[0m\u001b[0m\n\u001b[0m\u001b[1;32m      2\u001b[0m \u001b[0;32mfrom\u001b[0m \u001b[0mmodel\u001b[0m\u001b[0;34m.\u001b[0m\u001b[0mticker_list\u001b[0m \u001b[0;32mimport\u001b[0m \u001b[0mTickerList\u001b[0m\u001b[0;34m\u001b[0m\u001b[0;34m\u001b[0m\u001b[0m\n\u001b[1;32m      3\u001b[0m \u001b[0;32mfrom\u001b[0m \u001b[0msupport\u001b[0m\u001b[0;34m.\u001b[0m\u001b[0mconfiguration\u001b[0m \u001b[0;32mimport\u001b[0m \u001b[0mConfiguration\u001b[0m\u001b[0;34m\u001b[0m\u001b[0;34m\u001b[0m\u001b[0m\n\u001b[1;32m      4\u001b[0m \u001b[0;34m\u001b[0m\u001b[0m\n\u001b[1;32m      5\u001b[0m \u001b[0;34m\u001b[0m\u001b[0m\n",
      "\u001b[0;32m~/development/git-projects/stock-advisor-software-redux/src/strategies/macd_crossover_strategy.py\u001b[0m in \u001b[0;36m<module>\u001b[0;34m\u001b[0m\n\u001b[1;32m      3\u001b[0m \u001b[0;34m\u001b[0m\u001b[0m\n\u001b[1;32m      4\u001b[0m \u001b[0;32mimport\u001b[0m \u001b[0mlogging\u001b[0m\u001b[0;34m\u001b[0m\u001b[0;34m\u001b[0m\u001b[0m\n\u001b[0;32m----> 5\u001b[0;31m \u001b[0;32mimport\u001b[0m \u001b[0mpandas\u001b[0m \u001b[0;32mas\u001b[0m \u001b[0mpd\u001b[0m\u001b[0;34m\u001b[0m\u001b[0;34m\u001b[0m\u001b[0m\n\u001b[0m\u001b[1;32m      6\u001b[0m \u001b[0;32mimport\u001b[0m \u001b[0mpandas_market_calendars\u001b[0m \u001b[0;32mas\u001b[0m \u001b[0mmcal\u001b[0m\u001b[0;34m\u001b[0m\u001b[0;34m\u001b[0m\u001b[0m\n\u001b[1;32m      7\u001b[0m \u001b[0;32mimport\u001b[0m \u001b[0mdateutil\u001b[0m\u001b[0;34m.\u001b[0m\u001b[0mparser\u001b[0m \u001b[0;32mas\u001b[0m \u001b[0mparser\u001b[0m\u001b[0;34m\u001b[0m\u001b[0;34m\u001b[0m\u001b[0m\n",
      "\u001b[0;31mModuleNotFoundError\u001b[0m: No module named 'pandas'"
     ]
    }
   ],
   "source": [
    "from strategies.macd_crossover_strategy import MACDCrossoverStrategy\n",
    "from model.ticker_list import TickerList\n",
    "from support.configuration import Configuration\n",
    "\n",
    "\n",
    "ticker_list = TickerList.from_local_file(\n",
    "    \"%s/macd_tickers.json\" % (constants.APP_DATA_DIR))\n",
    "\n",
    "config = Configuration.from_local_config(\n",
    "    constants.STRATEGY_CONFIG_FILE_NAME)\n",
    "\n",
    "#macd_strategy = MACDCrossoverStrategy.from_configur    ation(config, 'sa')\n",
    "macd_strategy = MACDCrossoverStrategy(\n",
    "    ticker_list, date(2021, 5, 7), 0.0016, 12, 26, 9)\n",
    "macd_strategy.generate_recommendation()\n",
    "macd_strategy.display_results()"
   ]
  },
  {
   "cell_type": "code",
   "execution_count": 2,
   "id": "815e2304",
   "metadata": {},
   "outputs": [
    {
     "name": "stdout",
     "output_type": "stream",
     "text": [
      "Package             Version  \n",
      "------------------- ---------\n",
      "appnope             0.1.2    \n",
      "argon2-cffi         20.1.0   \n",
      "astroid             2.2.5    \n",
      "async-generator     1.10     \n",
      "attrs               19.3.0   \n",
      "autopep8            1.4.4    \n",
      "aws-cdk.cx-api      1.27.0   \n",
      "awscli              1.18.16  \n",
      "backcall            0.2.0    \n",
      "bleach              3.3.0    \n",
      "botocore            1.15.16  \n",
      "cattrs              1.0.0    \n",
      "certifi             2020.11.8\n",
      "cffi                1.14.5   \n",
      "colorama            0.4.3    \n",
      "coverage            4.5.4    \n",
      "decorator           5.0.7    \n",
      "defusedxml          0.7.1    \n",
      "docutils            0.15.2   \n",
      "entrypoints         0.3      \n",
      "importlib-metadata  3.10.1   \n",
      "install             1.3.4    \n",
      "ipykernel           5.5.3    \n",
      "ipython             7.22.0   \n",
      "ipython-genutils    0.2.0    \n",
      "ipywidgets          7.6.3    \n",
      "isort               4.3.21   \n",
      "jedi                0.18.0   \n",
      "Jinja2              2.11.3   \n",
      "jmespath            0.9.5    \n",
      "jsii                0.22.0   \n",
      "jsonschema          3.2.0    \n",
      "jupyter             1.0.0    \n",
      "jupyter-client      6.1.12   \n",
      "jupyter-console     6.4.0    \n",
      "jupyter-core        4.7.1    \n",
      "jupyterlab-pygments 0.1.2    \n",
      "jupyterlab-widgets  1.0.0    \n",
      "lazy-object-proxy   1.4.2    \n",
      "MarkupSafe          1.1.1    \n",
      "mccabe              0.6.1    \n",
      "mistune             0.8.4    \n",
      "nbclient            0.5.3    \n",
      "nbconvert           6.0.7    \n",
      "nbformat            5.1.3    \n",
      "nest-asyncio        1.5.1    \n",
      "notebook            6.3.0    \n",
      "packaging           20.9     \n",
      "pandocfilters       1.4.3    \n",
      "parso               0.8.2    \n",
      "pexpect             4.8.0    \n",
      "pickleshare         0.7.5    \n",
      "pip                 19.2.3   \n",
      "prometheus-client   0.10.1   \n",
      "prompt-toolkit      3.0.18   \n",
      "ptyprocess          0.7.0    \n",
      "publication         0.0.3    \n",
      "pyasn1              0.4.8    \n",
      "pycodestyle         2.5.0    \n",
      "pycparser           2.20     \n",
      "Pygments            2.8.1    \n",
      "pylint              2.3.1    \n",
      "pyparsing           2.4.7    \n",
      "pyrsistent          0.17.3   \n",
      "python-dateutil     2.8.0    \n",
      "PyYAML              5.3      \n",
      "pyzmq               22.0.3   \n",
      "qtconsole           5.0.3    \n",
      "QtPy                1.9.0    \n",
      "rsa                 3.4.2    \n",
      "s3transfer          0.3.3    \n",
      "Send2Trash          1.5.0    \n",
      "setuptools          40.8.0   \n",
      "six                 1.12.0   \n",
      "terminado           0.9.4    \n",
      "testpath            0.4.4    \n",
      "tornado             6.1      \n",
      "traitlets           5.0.5    \n",
      "typed-ast           1.4.0    \n",
      "typing-extensions   3.7.4.1  \n",
      "urllib3             1.25.3   \n",
      "wcwidth             0.2.5    \n",
      "webencodings        0.5.1    \n",
      "widgetsnbextension  3.5.1    \n",
      "wrapt               1.11.2   \n",
      "zipp                3.4.1    \n",
      "\u001b[33mWARNING: You are using pip version 19.2.3, however version 21.1.1 is available.\n",
      "You should consider upgrading via the 'pip install --upgrade pip' command.\u001b[0m\n",
      "Note: you may need to restart the kernel to use updated packages.\n"
     ]
    }
   ],
   "source": [
    "pip list"
   ]
  },
  {
   "cell_type": "code",
   "execution_count": null,
   "id": "1197fda2",
   "metadata": {},
   "outputs": [],
   "source": []
  }
 ],
 "metadata": {
  "kernelspec": {
   "display_name": "Python 3",
   "language": "python",
   "name": "python3"
  },
  "language_info": {
   "codemirror_mode": {
    "name": "ipython",
    "version": 3
   },
   "file_extension": ".py",
   "mimetype": "text/x-python",
   "name": "python",
   "nbconvert_exporter": "python",
   "pygments_lexer": "ipython3",
   "version": "3.7.3"
  }
 },
 "nbformat": 4,
 "nbformat_minor": 5
}
